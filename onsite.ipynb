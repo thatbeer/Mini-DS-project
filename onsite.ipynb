{
 "cells": [
  {
   "cell_type": "code",
   "execution_count": 1,
   "metadata": {},
   "outputs": [],
   "source": [
    "import numpy as np\n",
    "import pandas as pd\n",
    "import matplotlib.pyplot as plt\n",
    "import seaborn as sns\n"
   ]
  },
  {
   "cell_type": "code",
   "execution_count": 2,
   "metadata": {},
   "outputs": [
    {
     "data": {
      "text/html": [
       "<div>\n",
       "<style scoped>\n",
       "    .dataframe tbody tr th:only-of-type {\n",
       "        vertical-align: middle;\n",
       "    }\n",
       "\n",
       "    .dataframe tbody tr th {\n",
       "        vertical-align: top;\n",
       "    }\n",
       "\n",
       "    .dataframe thead th {\n",
       "        text-align: right;\n",
       "    }\n",
       "</style>\n",
       "<table border=\"1\" class=\"dataframe\">\n",
       "  <thead>\n",
       "    <tr style=\"text-align: right;\">\n",
       "      <th></th>\n",
       "      <th>id</th>\n",
       "      <th>diagnosis</th>\n",
       "      <th>radius_mean</th>\n",
       "      <th>texture_mean</th>\n",
       "      <th>perimeter_mean</th>\n",
       "      <th>area_mean</th>\n",
       "      <th>smoothness_mean</th>\n",
       "      <th>compactness_mean</th>\n",
       "      <th>concavity_mean</th>\n",
       "      <th>concave points_mean</th>\n",
       "      <th>...</th>\n",
       "      <th>radius_worst</th>\n",
       "      <th>texture_worst</th>\n",
       "      <th>perimeter_worst</th>\n",
       "      <th>area_worst</th>\n",
       "      <th>smoothness_worst</th>\n",
       "      <th>compactness_worst</th>\n",
       "      <th>concavity_worst</th>\n",
       "      <th>concave points_worst</th>\n",
       "      <th>symmetry_worst</th>\n",
       "      <th>fractal_dimension_worst</th>\n",
       "    </tr>\n",
       "  </thead>\n",
       "  <tbody>\n",
       "    <tr>\n",
       "      <th>0</th>\n",
       "      <td>842302</td>\n",
       "      <td>M</td>\n",
       "      <td>17.99</td>\n",
       "      <td>10.38</td>\n",
       "      <td>122.80</td>\n",
       "      <td>1001.0</td>\n",
       "      <td>0.11840</td>\n",
       "      <td>0.27760</td>\n",
       "      <td>0.3001</td>\n",
       "      <td>0.14710</td>\n",
       "      <td>...</td>\n",
       "      <td>25.38</td>\n",
       "      <td>17.33</td>\n",
       "      <td>184.60</td>\n",
       "      <td>2019.0</td>\n",
       "      <td>0.1622</td>\n",
       "      <td>0.6656</td>\n",
       "      <td>0.7119</td>\n",
       "      <td>0.2654</td>\n",
       "      <td>0.4601</td>\n",
       "      <td>0.11890</td>\n",
       "    </tr>\n",
       "    <tr>\n",
       "      <th>1</th>\n",
       "      <td>842517</td>\n",
       "      <td>M</td>\n",
       "      <td>20.57</td>\n",
       "      <td>17.77</td>\n",
       "      <td>132.90</td>\n",
       "      <td>1326.0</td>\n",
       "      <td>0.08474</td>\n",
       "      <td>0.07864</td>\n",
       "      <td>0.0869</td>\n",
       "      <td>0.07017</td>\n",
       "      <td>...</td>\n",
       "      <td>24.99</td>\n",
       "      <td>23.41</td>\n",
       "      <td>158.80</td>\n",
       "      <td>1956.0</td>\n",
       "      <td>0.1238</td>\n",
       "      <td>0.1866</td>\n",
       "      <td>0.2416</td>\n",
       "      <td>0.1860</td>\n",
       "      <td>0.2750</td>\n",
       "      <td>0.08902</td>\n",
       "    </tr>\n",
       "    <tr>\n",
       "      <th>2</th>\n",
       "      <td>84300903</td>\n",
       "      <td>M</td>\n",
       "      <td>19.69</td>\n",
       "      <td>21.25</td>\n",
       "      <td>130.00</td>\n",
       "      <td>1203.0</td>\n",
       "      <td>0.10960</td>\n",
       "      <td>0.15990</td>\n",
       "      <td>0.1974</td>\n",
       "      <td>0.12790</td>\n",
       "      <td>...</td>\n",
       "      <td>23.57</td>\n",
       "      <td>25.53</td>\n",
       "      <td>152.50</td>\n",
       "      <td>1709.0</td>\n",
       "      <td>0.1444</td>\n",
       "      <td>0.4245</td>\n",
       "      <td>0.4504</td>\n",
       "      <td>0.2430</td>\n",
       "      <td>0.3613</td>\n",
       "      <td>0.08758</td>\n",
       "    </tr>\n",
       "    <tr>\n",
       "      <th>3</th>\n",
       "      <td>84348301</td>\n",
       "      <td>M</td>\n",
       "      <td>11.42</td>\n",
       "      <td>20.38</td>\n",
       "      <td>77.58</td>\n",
       "      <td>386.1</td>\n",
       "      <td>0.14250</td>\n",
       "      <td>0.28390</td>\n",
       "      <td>0.2414</td>\n",
       "      <td>0.10520</td>\n",
       "      <td>...</td>\n",
       "      <td>14.91</td>\n",
       "      <td>26.50</td>\n",
       "      <td>98.87</td>\n",
       "      <td>567.7</td>\n",
       "      <td>0.2098</td>\n",
       "      <td>0.8663</td>\n",
       "      <td>0.6869</td>\n",
       "      <td>0.2575</td>\n",
       "      <td>0.6638</td>\n",
       "      <td>0.17300</td>\n",
       "    </tr>\n",
       "    <tr>\n",
       "      <th>4</th>\n",
       "      <td>84358402</td>\n",
       "      <td>M</td>\n",
       "      <td>20.29</td>\n",
       "      <td>14.34</td>\n",
       "      <td>135.10</td>\n",
       "      <td>1297.0</td>\n",
       "      <td>0.10030</td>\n",
       "      <td>0.13280</td>\n",
       "      <td>0.1980</td>\n",
       "      <td>0.10430</td>\n",
       "      <td>...</td>\n",
       "      <td>22.54</td>\n",
       "      <td>16.67</td>\n",
       "      <td>152.20</td>\n",
       "      <td>1575.0</td>\n",
       "      <td>0.1374</td>\n",
       "      <td>0.2050</td>\n",
       "      <td>0.4000</td>\n",
       "      <td>0.1625</td>\n",
       "      <td>0.2364</td>\n",
       "      <td>0.07678</td>\n",
       "    </tr>\n",
       "  </tbody>\n",
       "</table>\n",
       "<p>5 rows × 32 columns</p>\n",
       "</div>"
      ],
      "text/plain": [
       "         id diagnosis  radius_mean  texture_mean  perimeter_mean  area_mean   \n",
       "0    842302         M        17.99         10.38          122.80     1001.0  \\\n",
       "1    842517         M        20.57         17.77          132.90     1326.0   \n",
       "2  84300903         M        19.69         21.25          130.00     1203.0   \n",
       "3  84348301         M        11.42         20.38           77.58      386.1   \n",
       "4  84358402         M        20.29         14.34          135.10     1297.0   \n",
       "\n",
       "   smoothness_mean  compactness_mean  concavity_mean  concave points_mean   \n",
       "0          0.11840           0.27760          0.3001              0.14710  \\\n",
       "1          0.08474           0.07864          0.0869              0.07017   \n",
       "2          0.10960           0.15990          0.1974              0.12790   \n",
       "3          0.14250           0.28390          0.2414              0.10520   \n",
       "4          0.10030           0.13280          0.1980              0.10430   \n",
       "\n",
       "   ...  radius_worst  texture_worst  perimeter_worst  area_worst   \n",
       "0  ...         25.38          17.33           184.60      2019.0  \\\n",
       "1  ...         24.99          23.41           158.80      1956.0   \n",
       "2  ...         23.57          25.53           152.50      1709.0   \n",
       "3  ...         14.91          26.50            98.87       567.7   \n",
       "4  ...         22.54          16.67           152.20      1575.0   \n",
       "\n",
       "   smoothness_worst  compactness_worst  concavity_worst  concave points_worst   \n",
       "0            0.1622             0.6656           0.7119                0.2654  \\\n",
       "1            0.1238             0.1866           0.2416                0.1860   \n",
       "2            0.1444             0.4245           0.4504                0.2430   \n",
       "3            0.2098             0.8663           0.6869                0.2575   \n",
       "4            0.1374             0.2050           0.4000                0.1625   \n",
       "\n",
       "   symmetry_worst  fractal_dimension_worst  \n",
       "0          0.4601                  0.11890  \n",
       "1          0.2750                  0.08902  \n",
       "2          0.3613                  0.08758  \n",
       "3          0.6638                  0.17300  \n",
       "4          0.2364                  0.07678  \n",
       "\n",
       "[5 rows x 32 columns]"
      ]
     },
     "execution_count": 2,
     "metadata": {},
     "output_type": "execute_result"
    }
   ],
   "source": [
    "dataset = pd.read_csv('./src/Cancer_Data.csv',usecols=range(0, 32)) # there are 32 columns in the dataset but the 33 columns exists with null value\n",
    "dataset.head()"
   ]
  },
  {
   "cell_type": "code",
   "execution_count": 3,
   "metadata": {},
   "outputs": [],
   "source": [
    "columns_interest = ['concave points_mean','perimeter_mean','radius_mean','area_mean','concavity_mean']"
   ]
  },
  {
   "cell_type": "code",
   "execution_count": 4,
   "metadata": {},
   "outputs": [
    {
     "data": {
      "text/html": [
       "<div>\n",
       "<style scoped>\n",
       "    .dataframe tbody tr th:only-of-type {\n",
       "        vertical-align: middle;\n",
       "    }\n",
       "\n",
       "    .dataframe tbody tr th {\n",
       "        vertical-align: top;\n",
       "    }\n",
       "\n",
       "    .dataframe thead th {\n",
       "        text-align: right;\n",
       "    }\n",
       "</style>\n",
       "<table border=\"1\" class=\"dataframe\">\n",
       "  <thead>\n",
       "    <tr style=\"text-align: right;\">\n",
       "      <th></th>\n",
       "      <th>concave points_mean</th>\n",
       "      <th>perimeter_mean</th>\n",
       "      <th>radius_mean</th>\n",
       "      <th>area_mean</th>\n",
       "      <th>concavity_mean</th>\n",
       "    </tr>\n",
       "  </thead>\n",
       "  <tbody>\n",
       "    <tr>\n",
       "      <th>0</th>\n",
       "      <td>0.14710</td>\n",
       "      <td>122.80</td>\n",
       "      <td>17.99</td>\n",
       "      <td>1001.0</td>\n",
       "      <td>0.3001</td>\n",
       "    </tr>\n",
       "    <tr>\n",
       "      <th>1</th>\n",
       "      <td>0.07017</td>\n",
       "      <td>132.90</td>\n",
       "      <td>20.57</td>\n",
       "      <td>1326.0</td>\n",
       "      <td>0.0869</td>\n",
       "    </tr>\n",
       "    <tr>\n",
       "      <th>2</th>\n",
       "      <td>0.12790</td>\n",
       "      <td>130.00</td>\n",
       "      <td>19.69</td>\n",
       "      <td>1203.0</td>\n",
       "      <td>0.1974</td>\n",
       "    </tr>\n",
       "    <tr>\n",
       "      <th>3</th>\n",
       "      <td>0.10520</td>\n",
       "      <td>77.58</td>\n",
       "      <td>11.42</td>\n",
       "      <td>386.1</td>\n",
       "      <td>0.2414</td>\n",
       "    </tr>\n",
       "    <tr>\n",
       "      <th>4</th>\n",
       "      <td>0.10430</td>\n",
       "      <td>135.10</td>\n",
       "      <td>20.29</td>\n",
       "      <td>1297.0</td>\n",
       "      <td>0.1980</td>\n",
       "    </tr>\n",
       "  </tbody>\n",
       "</table>\n",
       "</div>"
      ],
      "text/plain": [
       "   concave points_mean  perimeter_mean  radius_mean  area_mean  concavity_mean\n",
       "0              0.14710          122.80        17.99     1001.0          0.3001\n",
       "1              0.07017          132.90        20.57     1326.0          0.0869\n",
       "2              0.12790          130.00        19.69     1203.0          0.1974\n",
       "3              0.10520           77.58        11.42      386.1          0.2414\n",
       "4              0.10430          135.10        20.29     1297.0          0.1980"
      ]
     },
     "execution_count": 4,
     "metadata": {},
     "output_type": "execute_result"
    }
   ],
   "source": [
    "df_interest = dataset[columns_interest]\n",
    "df_interest.head()"
   ]
  },
  {
   "cell_type": "code",
   "execution_count": 5,
   "metadata": {},
   "outputs": [],
   "source": [
    "from sklearn.linear_model import LogisticRegression\n",
    "from sklearn.ensemble import GradientBoostingClassifier\n",
    "from sklearn.ensemble import AdaBoostClassifier\n",
    "import xgboost as xgb"
   ]
  },
  {
   "cell_type": "code",
   "execution_count": 7,
   "metadata": {},
   "outputs": [],
   "source": [
    "from sklearn.pipeline import Pipeline\n",
    "from sklearn.decomposition import PCA\n",
    "from sklearn.preprocessing import StandardScaler\n",
    "from sklearn.model_selection import RandomizedSearchCV , GridSearchCV , train_test_split"
   ]
  },
  {
   "cell_type": "code",
   "execution_count": 9,
   "metadata": {},
   "outputs": [
    {
     "data": {
      "text/plain": [
       "((569, 5), (569,))"
      ]
     },
     "execution_count": 9,
     "metadata": {},
     "output_type": "execute_result"
    }
   ],
   "source": [
    "X = df_interest\n",
    "y = dataset['diagnosis']\n",
    "X.shape , y.shape"
   ]
  },
  {
   "cell_type": "code",
   "execution_count": 13,
   "metadata": {},
   "outputs": [
    {
     "data": {
      "text/plain": [
       "((357,), (212,))"
      ]
     },
     "execution_count": 13,
     "metadata": {},
     "output_type": "execute_result"
    }
   ],
   "source": [
    "nB = y[y == 'B']\n",
    "nM = y[y == 'M']\n",
    "nB.shape , nM.shape"
   ]
  },
  {
   "cell_type": "code",
   "execution_count": null,
   "metadata": {},
   "outputs": [],
   "source": [
    "sn"
   ]
  },
  {
   "cell_type": "code",
   "execution_count": 25,
   "metadata": {},
   "outputs": [],
   "source": [
    "#metrics\n",
    "from sklearn.metrics import mean_squared_error , r2_score , accuracy_score , recall_score ,precision_score\n",
    "from sklearn.metrics import confusion_matrix , classification_report"
   ]
  },
  {
   "attachments": {},
   "cell_type": "markdown",
   "metadata": {},
   "source": [
    "### SMOTE Upsampling"
   ]
  },
  {
   "cell_type": "code",
   "execution_count": 17,
   "metadata": {},
   "outputs": [
    {
     "name": "stdout",
     "output_type": "stream",
     "text": [
      "(714, 5) (714,)\n"
     ]
    },
    {
     "data": {
      "text/plain": [
       "([<matplotlib.patches.Wedge at 0x1faa7ff6430>,\n",
       "  <matplotlib.patches.Wedge at 0x1faa7ff6340>],\n",
       " [Text(6.735557395310444e-17, 1.1, 'B'),\n",
       "  Text(-2.0206672185931328e-16, -1.1, 'M')],\n",
       " [Text(3.6739403974420595e-17, 0.6, '50.0%'),\n",
       "  Text(-1.1021821192326178e-16, -0.6, '50.0%')])"
      ]
     },
     "execution_count": 17,
     "metadata": {},
     "output_type": "execute_result"
    },
    {
     "data": {
      "image/png": "[encoded data removed]",
      "text/plain": [
       "<Figure size 640x480 with 1 Axes>"
      ]
     },
     "metadata": {},
     "output_type": "display_data"
    }
   ],
   "source": [
    "from imblearn.over_sampling import SMOTE\n",
    "\n",
    "smote = SMOTE(random_state=42)\n",
    "\n",
    "X_resample , y_resample = smote.fit_resample(X,y)\n",
    "print(X_resample.shape , y_resample.shape)\n",
    "plt.pie(y_resample.value_counts() , labels=['B','M'] , autopct='%1.1f%%')"
   ]
  },
  {
   "cell_type": "code",
   "execution_count": 30,
   "metadata": {},
   "outputs": [],
   "source": [
    "y_resample = y_resample.replace({'B':0 , 'M':1})"
   ]
  },
  {
   "cell_type": "code",
   "execution_count": 32,
   "metadata": {},
   "outputs": [
    {
     "data": {
      "text/plain": [
       "diagnosis\n",
       "1    357\n",
       "0    357\n",
       "Name: count, dtype: int64"
      ]
     },
     "execution_count": 32,
     "metadata": {},
     "output_type": "execute_result"
    }
   ],
   "source": [
    "y_resample.value_counts()"
   ]
  },
  {
   "cell_type": "code",
   "execution_count": 36,
   "metadata": {},
   "outputs": [
    {
     "data": {
      "text/plain": [
       "129    1\n",
       "267    0\n",
       "594    1\n",
       "670    1\n",
       "321    1\n",
       "Name: diagnosis, dtype: int64"
      ]
     },
     "execution_count": 36,
     "metadata": {},
     "output_type": "execute_result"
    }
   ],
   "source": [
    "X_train , X_test , y_train , y_test = train_test_split(X_resample , y_resample , test_size=0.3 , random_state=42,stratify=y_resample)\n",
    "y_test.head()"
   ]
  },
  {
   "attachments": {},
   "cell_type": "markdown",
   "metadata": {},
   "source": [
    "### Modelling"
   ]
  },
  {
   "cell_type": "code",
   "execution_count": 41,
   "metadata": {},
   "outputs": [],
   "source": [
    "from collections import defaultdict\n",
    "\n",
    "res = defaultdict(dict)\n",
    "models = ['LogisticRegression','GradientBoostingClassifier','AdaBoostClassifier','XGBClassifier']\n",
    "for i in models:\n",
    "    res[i] = {}"
   ]
  },
  {
   "cell_type": "code",
   "execution_count": 71,
   "metadata": {},
   "outputs": [
    {
     "data": {
      "text/plain": [
       "defaultdict(dict,\n",
       "            {'LogisticRegression': {},\n",
       "             'GradientBoostingClassifier': {},\n",
       "             'AdaBoostClassifier': {},\n",
       "             'XGBClassifier': {}})"
      ]
     },
     "execution_count": 71,
     "metadata": {},
     "output_type": "execute_result"
    }
   ],
   "source": [
    "res"
   ]
  },
  {
   "attachments": {},
   "cell_type": "markdown",
   "metadata": {},
   "source": [
    "Logistic Regression"
   ]
  },
  {
   "attachments": {},
   "cell_type": "markdown",
   "metadata": {},
   "source": [
    "with Smote"
   ]
  },
  {
   "cell_type": "code",
   "execution_count": 52,
   "metadata": {},
   "outputs": [
    {
     "name": "stdout",
     "output_type": "stream",
     "text": [
      "Best Score: 0.910\n",
      "\n",
      " Best parameters: {'pca__n_components': 2, 'lr__solver': 'lbfgs', 'lr__penalty': 'l2', 'lr__C': 0.01}\n",
      "\n",
      " Best estimator: Pipeline(steps=[('scaler', StandardScaler()), ('pca', PCA(n_components=2)),\n",
      "                ('lr', LogisticRegression(C=0.01))])\n"
     ]
    }
   ],
   "source": [
    "lr = LogisticRegression()\n",
    "pipe_lr = Pipeline([('scaler',StandardScaler())\n",
    "                    ,('pca',PCA(n_components=2))\n",
    "                    ,('lr',lr)])\n",
    "c_range = [0.001,0.01,0.1,1,10]\n",
    "params_lr = [{'pca__n_components':[2,3,4],'lr__C':c_range,'lr__penalty':['l1','l2'],'lr__solver':['liblinear']},\n",
    "             {'pca__n_components':[2,3,4],'lr__C':c_range,'lr__penalty':['l2',None],'lr__solver':['lbfgs']}]\n",
    "random_lr = RandomizedSearchCV(estimator=pipe_lr,param_distributions=params_lr\n",
    "                               ,cv=5,n_iter=10,scoring='accuracy',random_state=42,n_jobs=-1)\n",
    "\n",
    "random_lr.fit(X_train,y_train)\n",
    "\n",
    "print('Best Score: %.3f' % random_lr.best_score_)\n",
    "print('\\n Best parameters: %s' % random_lr.best_params_)\n",
    "print('\\n Best estimator: %s' % random_lr.best_estimator_)\n"
   ]
  },
  {
   "cell_type": "code",
   "execution_count": 53,
   "metadata": {},
   "outputs": [
    {
     "name": "stdout",
     "output_type": "stream",
     "text": [
      "Test Accuracy: 0.921\n",
      "Precision: 0.925 , Recall: 0.921\n",
      "Means Squared Error: 0.079 , R2 Score: 0.684\n",
      "[[105   3]\n",
      " [ 14  93]]\n",
      "              precision    recall  f1-score   support\n",
      "\n",
      "           0       0.88      0.97      0.93       108\n",
      "           1       0.97      0.87      0.92       107\n",
      "\n",
      "    accuracy                           0.92       215\n",
      "   macro avg       0.93      0.92      0.92       215\n",
      "weighted avg       0.93      0.92      0.92       215\n",
      "\n"
     ]
    }
   ],
   "source": [
    "model_lr = random_lr.best_estimator_\n",
    "y_pred = model_lr.predict(X_test)\n",
    "accuracy  = accuracy_score(y_test,y_pred)\n",
    "precision , recall = precision_score(y_test,y_pred,average='weighted') , recall_score(y_test,y_pred,average='weighted')\n",
    "print('Test Accuracy: %.3f' % accuracy)\n",
    "print(f'Precision: {precision:.3f} , Recall: {recall:.3f}')\n",
    "print(f'Means Squared Error: {mean_squared_error(y_test,y_pred):.3f} , R2 Score: {r2_score(y_test,y_pred):.3f}')\n",
    "print(confusion_matrix(y_test,y_pred))  \n",
    "print(classification_report(y_test,y_pred))"
   ]
  },
  {
   "attachments": {},
   "cell_type": "markdown",
   "metadata": {},
   "source": [
    "Gradient Boost Classifier"
   ]
  },
  {
   "cell_type": "code",
   "execution_count": 65,
   "metadata": {},
   "outputs": [
    {
     "name": "stdout",
     "output_type": "stream",
     "text": [
      "Best Score: 0.946\n",
      "\n",
      " Best parameters: {'min_samples_split': 6, 'min_samples_leaf': 8, 'max_depth': 3, 'learning_rate': 0.01}\n",
      "\n",
      " Best estimator: GradientBoostingClassifier(learning_rate=0.01, min_samples_leaf=8,\n",
      "                           min_samples_split=6)\n"
     ]
    }
   ],
   "source": [
    "gbs = GradientBoostingClassifier()\n",
    "pipe_lr = Pipeline([('scaler',StandardScaler())\n",
    "                    ,('pca',PCA(n_components=2))\n",
    "                    ,('gbs',gbs)])\n",
    "learning_rate = [0.001,0.01,0.1,1]\n",
    "min_samples_split = [2,4,6,8]\n",
    "min_samples_leaf = np.arange(0,11,2)\n",
    "max_depth = np.arange(3,10,2)\n",
    "params_gbs = {\n",
    "    'learning_rate':learning_rate,\n",
    "    'min_samples_split':min_samples_split,\n",
    "    'min_samples_leaf':min_samples_leaf,\n",
    "    'max_depth':max_depth,\n",
    "}\n",
    "# params_gb = {'learning_rate': uniform(0.01, 0.1),\n",
    "#                  'n_estimators': randint(100, 1000),\n",
    "#                  'max_depth': randint(1, 10),\n",
    "#                  'min_samples_split': randint(2, 10)}\n",
    "random_gb = RandomizedSearchCV(estimator=gbs,param_distributions=params_gbs\n",
    "                               ,cv=5,n_iter=10,scoring='accuracy',random_state=42,n_jobs=-1)\n",
    "\n",
    "random_gb.fit(X_train,y_train)\n",
    "\n",
    "print('Best Score: %.3f' % random_gb.best_score_)\n",
    "print('\\n Best parameters: %s' % random_gb.best_params_)\n",
    "print('\\n Best estimator: %s' % random_gb.best_estimator_)"
   ]
  },
  {
   "cell_type": "code",
   "execution_count": 66,
   "metadata": {},
   "outputs": [
    {
     "name": "stdout",
     "output_type": "stream",
     "text": [
      "Test Accuracy: 0.930\n",
      "Precision: 0.931 , Recall: 0.930\n",
      "Means Squared Error: 0.070 , R2 Score: 0.721\n",
      "[[ 99   9]\n",
      " [  6 101]]\n",
      "              precision    recall  f1-score   support\n",
      "\n",
      "           0       0.94      0.92      0.93       108\n",
      "           1       0.92      0.94      0.93       107\n",
      "\n",
      "    accuracy                           0.93       215\n",
      "   macro avg       0.93      0.93      0.93       215\n",
      "weighted avg       0.93      0.93      0.93       215\n",
      "\n"
     ]
    }
   ],
   "source": [
    "model_gb = random_gb.best_estimator_\n",
    "y_pred = model_gb.predict(X_test)\n",
    "accuracy  = accuracy_score(y_test,y_pred)\n",
    "precision , recall = precision_score(y_test,y_pred,average='weighted') , recall_score(y_test,y_pred,average='weighted')\n",
    "print('Test Accuracy: %.3f' % accuracy)\n",
    "print(f'Precision: {precision:.3f} , Recall: {recall:.3f}')\n",
    "print(f'Means Squared Error: {mean_squared_error(y_test,y_pred):.3f} , R2 Score: {r2_score(y_test,y_pred):.3f}')\n",
    "print(confusion_matrix(y_test,y_pred))  \n",
    "print(classification_report(y_test,y_pred))"
   ]
  },
  {
   "cell_type": "code",
   "execution_count": 68,
   "metadata": {},
   "outputs": [
    {
     "name": "stdout",
     "output_type": "stream",
     "text": [
      "concave points_mean : 0.862\n",
      "perimeter_mean : 0.003\n",
      "radius_mean : 0.004\n",
      "area_mean : 0.100\n",
      "concavity_mean : 0.031\n"
     ]
    }
   ],
   "source": [
    "for i , x in enumerate(model_gb.feature_importances_):\n",
    "    print(f'{X.columns[i]} : {x:.3f}')"
   ]
  },
  {
   "cell_type": "code",
   "execution_count": null,
   "metadata": {},
   "outputs": [],
   "source": [
    "res['GradientBoostingClassifier']['Train'] = random_gb.best_score_\n",
    "res['GradientBoostingClassifier']['best_params'] = random_gb.best_params_\n",
    "res['GradientBoostingClassifier']['']"
   ]
  }
 ],
 "metadata": {
  "kernelspec": {
   "display_name": "beer",
   "language": "python",
   "name": "python3"
  },
  "language_info": {
   "codemirror_mode": {
    "name": "ipython",
    "version": 3
   },
   "file_extension": ".py",
   "mimetype": "text/x-python",
   "name": "python",
   "nbconvert_exporter": "python",
   "pygments_lexer": "ipython3",
   "version": "3.8.13"
  },
  "orig_nbformat": 4
 },
 "nbformat": 4,
 "nbformat_minor": 2
}
